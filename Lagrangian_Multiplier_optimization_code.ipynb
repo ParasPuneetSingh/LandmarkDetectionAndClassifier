{
  "nbformat": 4,
  "nbformat_minor": 0,
  "metadata": {
    "colab": {
      "provenance": [],
      "authorship_tag": "ABX9TyPPOQ57Yq5Lm7vw1VLqQuF4",
      "include_colab_link": true
    },
    "kernelspec": {
      "name": "python3",
      "display_name": "Python 3"
    },
    "language_info": {
      "name": "python"
    }
  },
  "cells": [
    {
      "cell_type": "markdown",
      "metadata": {
        "id": "view-in-github",
        "colab_type": "text"
      },
      "source": [
        "<a href=\"https://colab.research.google.com/github/ParasPuneetSingh/LandmarkDetectionAndClassifier/blob/main/Lagrangian_Multiplier_optimization_code.ipynb\" target=\"_parent\"><img src=\"https://colab.research.google.com/assets/colab-badge.svg\" alt=\"Open In Colab\"/></a>"
      ]
    },
    {
      "cell_type": "code",
      "execution_count": 1,
      "metadata": {
        "colab": {
          "base_uri": "https://localhost:8080/"
        },
        "id": "ZHOMzSSmTUGx",
        "outputId": "37e0d1a1-85d2-4b0e-fdfc-7445c8767478"
      },
      "outputs": [
        {
          "output_type": "stream",
          "name": "stdout",
          "text": [
            "Optimal solution: [0.83282649 0.17339999 1.81006422]\n",
            "Optimal objective value: 0.09409013999554708\n"
          ]
        }
      ],
      "source": [
        "from scipy.optimize import minimize\n",
        "import numpy as np\n",
        "\n",
        "# Define the objective function\n",
        "def objective(xyz):\n",
        "    x, y, z = xyz\n",
        "    return (x-1)**2 + y**2 + (z-2)**2\n",
        "\n",
        "# Define the inequality constraint functions\n",
        "def constraint_1(xyz):\n",
        "    x, y, _ = xyz\n",
        "    return x**2 - 4 * y\n",
        "\n",
        "def constraint_2(xyz):\n",
        "    x, y, z = xyz\n",
        "    return x**2 + y**2 + z**2 - 4\n",
        "\n",
        "# Define the Lagrangian function\n",
        "def lagrangian(xyz, lambdas):\n",
        "    return objective(xyz) + lambdas[0] * constraint_1(xyz) + lambdas[1] * constraint_2(xyz)\n",
        "\n",
        "# Define the gradient of the Lagrangian function\n",
        "def lagrangian_grad(xyz, lambdas):\n",
        "    grad_objective = np.array([2 * (xyz[0]-1), 2 * xyz[1], 2 * (xyz[2]-2)])\n",
        "    grad_constraint_1 = np.array([2 * xyz[0], -4, 0])\n",
        "    grad_constraint_2 = np.array([2 * xyz[0], 2 * xyz[1], 2 * xyz[2]])\n",
        "    return grad_objective + lambdas[0] * grad_constraint_1 + lambdas[1] * grad_constraint_2\n",
        "\n",
        "# Define the optimization problem with inequality constraints using Lagrangian multiplier\n",
        "def lagrangian_optimization(x0):\n",
        "    result = minimize(lambda xyz: lagrangian(xyz, xyz[-2:]), x0, jac=lambda xyz: lagrangian_grad(xyz, xyz[-2:]), constraints=[{'type': 'ineq', 'fun': constraint_1}, {'type': 'ineq', 'fun': constraint_2}])\n",
        "    return result\n",
        "\n",
        "# Initial guess for the variables\n",
        "x0 = np.array([0.5, 0.5, 0.5])\n",
        "\n",
        "# Solve the optimization problem\n",
        "result = lagrangian_optimization(x0)\n",
        "\n",
        "# Print the result\n",
        "print(\"Optimal solution:\", result.x)\n",
        "print(\"Optimal objective value:\", result.fun)\n"
      ]
    }
  ]
}